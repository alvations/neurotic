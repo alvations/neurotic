{
 "cells": [
  {
   "cell_type": "code",
   "execution_count": 6,
   "metadata": {
    "collapsed": false
   },
   "outputs": [],
   "source": [
    "import io, os\n",
    "import urllib2\n",
    "\n",
    "import keras\n",
    "from keras.preprocessing import sequence\n",
    "from passage.preprocessing import Tokenizer\n",
    "from keras.preprocessing import sequence\n",
    "from keras.utils import np_utils\n",
    "from keras.models import Sequential\n",
    "from keras.layers.core import Dense, Dropout, Activation\n",
    "from keras.layers.embeddings import Embedding\n",
    "from keras.layers.recurrent import LSTM, SimpleRNN, GRU\n",
    "\n",
    "import numpy as np\n",
    "\n",
    "\n",
    "red = '\\033[01;31m'\n",
    "native = '\\033[m'\n"
   ]
  },
  {
   "cell_type": "code",
   "execution_count": 2,
   "metadata": {
    "collapsed": false
   },
   "outputs": [],
   "source": [
    "def get_and_save_file(url, filename):\n",
    "    response = urllib2.urlopen(url)\n",
    "    with io.open(filename, 'w', encoding='utf8') as fout:\n",
    "        fout.write(response.read().decode('utf-8'))\n",
    "\n",
    "input_lemmatized_url = 'https://raw.githubusercontent.com/alvations/stubboRNNess/master/cwi_inputs.lemmatized.txt'\n",
    "output_label_url = 'https://raw.githubusercontent.com/alvations/stubboRNNess/master/cwi_labels.txt'"
   ]
  },
  {
   "cell_type": "markdown",
   "metadata": {},
   "source": [
    "## Lets download the files first."
   ]
  },
  {
   "cell_type": "code",
   "execution_count": 26,
   "metadata": {
    "collapsed": false
   },
   "outputs": [],
   "source": [
    "# let's download the file first.\n",
    "get_and_save_file(input_lemmatized_url, 'cwi_inputs.lemmatized.txt')\n",
    "get_and_save_file(output_label_url, 'cwi_labels.txt')\n",
    "get_and_save_file('https://raw.githubusercontent.com/alvations/stubboRNNess/master/cwi_test.txt', 'cwi_test.txt')"
   ]
  },
  {
   "cell_type": "markdown",
   "metadata": {},
   "source": [
    "## Now, we take a look at what's inside."
   ]
  },
  {
   "cell_type": "code",
   "execution_count": 4,
   "metadata": {
    "collapsed": false
   },
   "outputs": [
    {
     "name": "stdout",
     "output_type": "stream",
     "text": [
      "\u001b[01;31mFocus Word:\u001b[m\n",
      "thence\n",
      "\n",
      "\u001b[01;31mContext:\u001b[m\n",
      "in 1832 his family emigrate thence to belleville , ontario , where he apprentice with the printer at the town newspaper , the belleville intelligencer .\n",
      "\n",
      "\u001b[01;31mLabel:\u001b[m\n",
      "1\n",
      "\n"
     ]
    }
   ],
   "source": [
    "with io.open('cwi_inputs.lemmatized.txt', 'r', encoding='utf8') as fin:\n",
    "    for line in fin:\n",
    "        line = line.strip()\n",
    "        print red + 'Focus Word:' + native\n",
    "        print line.split(' <s> ')[0] + '\\n'\n",
    "        print red + 'Context:' + native\n",
    "        print line.split(' <s> ')[1]+ '\\n'\n",
    "        break\n",
    "        \n",
    "with io.open('cwi_labels.txt', 'r', encoding='utf8') as fin:\n",
    "    for line in fin:\n",
    "        print red + 'Label:' + native\n",
    "        line = line.strip()+ '\\n'\n",
    "        print line\n",
    "        break"
   ]
  },
  {
   "cell_type": "code",
   "execution_count": 34,
   "metadata": {
    "collapsed": false
   },
   "outputs": [],
   "source": [
    "with io.open('cwi_inputs.lemmatized.txt', 'r', encoding='utf8') as fin:\n",
    "    train_text = fin.read().splitlines()\n",
    "\n",
    "    \n",
    "with io.open('cwi_test.txt', 'r', encoding='utf8') as fin:\n",
    "    test_text = fin.read().splitlines()\n",
    "\n",
    "    \n",
    "with io.open('cwi_labels.txt', 'r', encoding='utf8') as fin:\n",
    "    train_labels = map(int, fin.read().splitlines())\n",
    "    \n",
    "with io.open('cwi_test_labels.txt', 'r', encoding='utf8') as fin:\n",
    "    test_labels = map(int, fin.read().splitlines())\n",
    "    "
   ]
  },
  {
   "cell_type": "code",
   "execution_count": 35,
   "metadata": {
    "collapsed": false
   },
   "outputs": [],
   "source": [
    "tokenizer = Tokenizer()\n",
    "train_tokens = tokenizer.fit_transform(train_text)"
   ]
  },
  {
   "cell_type": "code",
   "execution_count": 36,
   "metadata": {
    "collapsed": false
   },
   "outputs": [],
   "source": [
    "X_train = tokenizer.transform(train_text)\n",
    "y_train = np.array(train_labels)\n",
    "\n",
    "X_test = tokenizer.transform(test_text)\n",
    "y_test = np.array(test_labels)"
   ]
  },
  {
   "cell_type": "code",
   "execution_count": 37,
   "metadata": {
    "collapsed": false
   },
   "outputs": [
    {
     "data": {
      "text/plain": [
       "(array([1, 1, 0, ..., 0, 0, 0]), array([0, 0, 0, ..., 1, 0, 1]))"
      ]
     },
     "execution_count": 37,
     "metadata": {},
     "output_type": "execute_result"
    }
   ],
   "source": [
    "y_train, y_test"
   ]
  },
  {
   "cell_type": "code",
   "execution_count": 38,
   "metadata": {
    "collapsed": false
   },
   "outputs": [
    {
     "name": "stdout",
     "output_type": "stream",
     "text": [
      "(2247, 'train sequences')\n",
      "(88221, 'test sequences')\n",
      "Pad sequences (samples x time)\n",
      "('X_train shape:', (2247, 50))\n",
      "('X_test shape:', (88221, 50))\n"
     ]
    }
   ],
   "source": [
    "max_features = 2000\n",
    "maxlen = 50  # cut texts after this number of words (among top max_features most common words)\n",
    "batch_size = 32\n",
    "\n",
    "\n",
    "print(len(X_train), 'train sequences')\n",
    "print(len(X_test), 'test sequences')\n",
    "\n",
    "print('Pad sequences (samples x time)')\n",
    "X_train = sequence.pad_sequences(X_train, maxlen=maxlen)\n",
    "X_test = sequence.pad_sequences(X_test, maxlen=maxlen)\n",
    "print('X_train shape:', X_train.shape)\n",
    "print('X_test shape:', X_test.shape)"
   ]
  },
  {
   "cell_type": "code",
   "execution_count": 33,
   "metadata": {
    "collapsed": false
   },
   "outputs": [
    {
     "ename": "SyntaxError",
     "evalue": "invalid syntax (<ipython-input-33-f1449c360b80>, line 3)",
     "output_type": "error",
     "traceback": [
      "\u001b[1;36m  File \u001b[1;32m\"<ipython-input-33-f1449c360b80>\"\u001b[1;36m, line \u001b[1;32m3\u001b[0m\n\u001b[1;33m    ... your code here ...\u001b[0m\n\u001b[1;37m    ^\u001b[0m\n\u001b[1;31mSyntaxError\u001b[0m\u001b[1;31m:\u001b[0m invalid syntax\n"
     ]
    }
   ],
   "source": [
    "print('Build model...')\n",
    "# Fill this up... Copy from the \"Sentiment Analysis\" notebook if you like.\n",
    "... your code here ...\n",
    "model.summary()"
   ]
  },
  {
   "cell_type": "code",
   "execution_count": null,
   "metadata": {
    "collapsed": true
   },
   "outputs": [],
   "source": [
    "from IPython.display import Image\n",
    "from keras.utils.visualize_util import plot\n",
    "\n",
    "plot(model, to_file='model.png')\n",
    "Image('model.png')"
   ]
  },
  {
   "cell_type": "code",
   "execution_count": null,
   "metadata": {
    "collapsed": true
   },
   "outputs": [],
   "source": [
    "# try using different optimizers and different optimizer configs\n",
    "model.compile(loss='binary_crossentropy',\n",
    "              optimizer='adam',\n",
    "              metrics=['accuracy'])\n",
    "\n",
    "print('Train...')\n",
    "print(X_train.shape)\n",
    "print(y_train.shape)\n",
    "\n",
    "# Now train the model.\n",
    "... your code here ...\n",
    "\n",
    "\n",
    "# And we evaluate it.\n",
    "score, acc = model.evaluate(X_test, y_test,\n",
    "                            batch_size=batch_size)\n",
    "print('Test score:', score)\n",
    "print('Test accuracy:', acc)"
   ]
  }
 ],
 "metadata": {
  "kernelspec": {
   "display_name": "Python 2",
   "language": "python",
   "name": "python2"
  },
  "language_info": {
   "codemirror_mode": {
    "name": "ipython",
    "version": 2
   },
   "file_extension": ".py",
   "mimetype": "text/x-python",
   "name": "python",
   "nbconvert_exporter": "python",
   "pygments_lexer": "ipython2",
   "version": "2.7.11+"
  }
 },
 "nbformat": 4,
 "nbformat_minor": 0
}
